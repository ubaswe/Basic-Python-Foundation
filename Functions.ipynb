{
 "cells": [
  {
   "cell_type": "markdown",
   "id": "a1a92fc5",
   "metadata": {},
   "source": [
    "# Function\n",
    "1.Builtin function<br>\n",
    "2.User define function<br>"
   ]
  },
  {
   "cell_type": "code",
   "execution_count": 3,
   "id": "4b9571f1",
   "metadata": {},
   "outputs": [
    {
     "name": "stdout",
     "output_type": "stream",
     "text": [
      "Hello world\n"
     ]
    }
   ],
   "source": [
    "def my_function():\n",
    "    print(\"Hello world\")\n",
    "    \n",
    "my_function()"
   ]
  },
  {
   "cell_type": "code",
   "execution_count": 23,
   "id": "8a7a2fa7",
   "metadata": {},
   "outputs": [
    {
     "name": "stdout",
     "output_type": "stream",
     "text": [
      "Hello world from uba\n",
      "Hello world from Tamim\n",
      "Hello world from Shohel\n"
     ]
    }
   ],
   "source": [
    "def my_function(a):\n",
    "    print(\"Hello world from \" +a)\n",
    "    \n",
    "my_function(\"uba\")\n",
    "my_function(\"Tamim\")\n",
    "my_function(\"Shohel\")"
   ]
  },
  {
   "cell_type": "code",
   "execution_count": 32,
   "id": "64984de8",
   "metadata": {},
   "outputs": [
    {
     "name": "stdout",
     "output_type": "stream",
     "text": [
      "Hello world from uba\n",
      "Hello world from ostad\n",
      "Hello world from ostad\n",
      "Hello world from Tamim\n",
      "Hello world from Shohel\n"
     ]
    }
   ],
   "source": [
    "def my_function(a=\"ostad\"):\n",
    "    print(\"Hello world from \" +a)\n",
    "    \n",
    "my_function(\"uba\")\n",
    "my_function()\n",
    "my_function()\n",
    "my_function(\"Tamim\")\n",
    "my_function(\"Shohel\")"
   ]
  },
  {
   "cell_type": "code",
   "execution_count": 31,
   "id": "8042421c",
   "metadata": {},
   "outputs": [
    {
     "name": "stdout",
     "output_type": "stream",
     "text": [
      "10\n"
     ]
    }
   ],
   "source": [
    "def my_function(a,b,c):\n",
    "     print(c)\n",
    "    \n",
    "my_function(c=10,b=20,a=30)"
   ]
  },
  {
   "cell_type": "code",
   "execution_count": 33,
   "id": "73e66990",
   "metadata": {},
   "outputs": [
    {
     "name": "stdout",
     "output_type": "stream",
     "text": [
      "7\n"
     ]
    }
   ],
   "source": [
    "def add(a,b):\n",
    "    print(a+b)\n",
    "    \n",
    "add(3,4)"
   ]
  },
  {
   "cell_type": "code",
   "execution_count": 15,
   "id": "b6441bfb",
   "metadata": {},
   "outputs": [
    {
     "name": "stdout",
     "output_type": "stream",
     "text": [
      "Enter 1st number: 10\n",
      "Enter 2nd number: 20\n",
      "30\n"
     ]
    }
   ],
   "source": [
    "def add(a,b):\n",
    "     print(a + b)\n",
    "    \n",
    "x=int(input(\"Enter 1st number: \"))\n",
    "y=int(input(\"Enter 2nd number: \"))\n",
    "\n",
    "add(x,y)\n"
   ]
  },
  {
   "cell_type": "code",
   "execution_count": 44,
   "id": "2ee0163d",
   "metadata": {},
   "outputs": [
    {
     "name": "stdout",
     "output_type": "stream",
     "text": [
      "600\n"
     ]
    }
   ],
   "source": [
    "def add(a,b):\n",
    "    return a*b\n",
    "    \n",
    "x=add(3,4)\n",
    "x=x*50\n",
    "print(x)"
   ]
  },
  {
   "cell_type": "code",
   "execution_count": 45,
   "id": "a5a23453",
   "metadata": {},
   "outputs": [
    {
     "name": "stdout",
     "output_type": "stream",
     "text": [
      "20\n"
     ]
    }
   ],
   "source": [
    "def add(a):\n",
    "    return a+10\n",
    "    \n",
    "x=add(10)\n",
    "print(x)"
   ]
  },
  {
   "cell_type": "markdown",
   "id": "4c77ec46",
   "metadata": {},
   "source": [
    "# Lambda Function\n",
    "syntax:lambda arguments:expression"
   ]
  },
  {
   "cell_type": "code",
   "execution_count": 48,
   "id": "b3ec397e",
   "metadata": {},
   "outputs": [
    {
     "name": "stdout",
     "output_type": "stream",
     "text": [
      "20\n"
     ]
    }
   ],
   "source": [
    "x=lambda a:a+10\n",
    "print(x(10))"
   ]
  },
  {
   "cell_type": "code",
   "execution_count": 49,
   "id": "9a79ca05",
   "metadata": {},
   "outputs": [
    {
     "name": "stdout",
     "output_type": "stream",
     "text": [
      "12\n"
     ]
    }
   ],
   "source": [
    "x=lambda a,b:a*b\n",
    "print(x(3,4))"
   ]
  },
  {
   "cell_type": "code",
   "execution_count": 3,
   "id": "423bdab9",
   "metadata": {},
   "outputs": [
    {
     "name": "stdout",
     "output_type": "stream",
     "text": [
      "7\n"
     ]
    }
   ],
   "source": [
    "x=lambda a,b:a+b\n",
    "print(x(3,4))"
   ]
  },
  {
   "cell_type": "markdown",
   "id": "7d205516",
   "metadata": {},
   "source": [
    "# Map Function"
   ]
  },
  {
   "cell_type": "code",
   "execution_count": 6,
   "id": "68380d76",
   "metadata": {},
   "outputs": [
    {
     "name": "stdout",
     "output_type": "stream",
     "text": [
      "[5, 6, 6, 10]\n"
     ]
    }
   ],
   "source": [
    "def add(a):\n",
    "    return len(a)\n",
    "x=map(add,(\"apple\",\"orange\",\"Banana\",\"jackfruits\"))\n",
    "print(list(x))"
   ]
  },
  {
   "cell_type": "markdown",
   "id": "464ab418",
   "metadata": {},
   "source": [
    "# Filter Function"
   ]
  },
  {
   "cell_type": "code",
   "execution_count": 8,
   "id": "5219b4fd",
   "metadata": {},
   "outputs": [
    {
     "name": "stdout",
     "output_type": "stream",
     "text": [
      "[13, 16]\n"
     ]
    }
   ],
   "source": [
    "a=[5,6,7,10,13,16]\n",
    "\n",
    "def add(x):\n",
    "    if x>12:\n",
    "        return True\n",
    "    else:\n",
    "        return False\n",
    "x=list(filter(add,a))\n",
    "print(x)"
   ]
  },
  {
   "cell_type": "code",
   "execution_count": null,
   "id": "cfcc8f5b",
   "metadata": {},
   "outputs": [],
   "source": []
  }
 ],
 "metadata": {
  "kernelspec": {
   "display_name": "Python 3 (ipykernel)",
   "language": "python",
   "name": "python3"
  },
  "language_info": {
   "codemirror_mode": {
    "name": "ipython",
    "version": 3
   },
   "file_extension": ".py",
   "mimetype": "text/x-python",
   "name": "python",
   "nbconvert_exporter": "python",
   "pygments_lexer": "ipython3",
   "version": "3.11.5"
  }
 },
 "nbformat": 4,
 "nbformat_minor": 5
}
