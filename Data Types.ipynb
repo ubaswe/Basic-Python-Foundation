{
 "cells": [
  {
   "cell_type": "markdown",
   "id": "fa3e8154",
   "metadata": {},
   "source": [
    "# Data Types\n",
    "\n",
    "Text Type:\tstr<br>\n",
    "Numeric Types:\tint, float, complex<br>\n",
    "Sequence Types:\tlist, tuple, range<br>\n",
    "Mapping Type:\tdict<br>\n",
    "Set Types:\tset, frozenset<br>\n",
    "Boolean Type:\tbool<br>\n",
    "Binary Types:\tbytes, bytearray, memoryview<br>\n",
    "None Type:\tNoneType<br>\n"
   ]
  },
  {
   "cell_type": "markdown",
   "id": "5e1d41d3",
   "metadata": {},
   "source": [
    "# Text Type:Str\n"
   ]
  },
  {
   "cell_type": "code",
   "execution_count": 6,
   "id": "c028cc8e",
   "metadata": {},
   "outputs": [
    {
     "name": "stdout",
     "output_type": "stream",
     "text": [
      "Hello World\n",
      "<class 'str'>\n"
     ]
    }
   ],
   "source": [
    "x=\"Hello World\"\n",
    "print(x)\n",
    "print(type(x))\n"
   ]
  },
  {
   "cell_type": "code",
   "execution_count": 7,
   "id": "f42248cb",
   "metadata": {},
   "outputs": [
    {
     "name": "stdout",
     "output_type": "stream",
     "text": [
      "Ubaswe\n",
      "<class 'str'>\n"
     ]
    }
   ],
   "source": [
    "x=\"Ubaswe\"\n",
    "print(x)\n",
    "print(type(x))"
   ]
  },
  {
   "cell_type": "markdown",
   "id": "30302ecc",
   "metadata": {},
   "source": [
    "# Numeric Type:int,float,complex"
   ]
  },
  {
   "cell_type": "code",
   "execution_count": 20,
   "id": "548cf77c",
   "metadata": {},
   "outputs": [
    {
     "name": "stdout",
     "output_type": "stream",
     "text": [
      "100\n",
      "<class 'int'>\n"
     ]
    }
   ],
   "source": [
    "x=100\n",
    "print(x)\n",
    "print(type(x))"
   ]
  },
  {
   "cell_type": "code",
   "execution_count": 21,
   "id": "f41e9f8a",
   "metadata": {},
   "outputs": [
    {
     "name": "stdout",
     "output_type": "stream",
     "text": [
      "0.99\n",
      "<class 'float'>\n"
     ]
    }
   ],
   "source": [
    "y=.99\n",
    "print(y)\n",
    "print(type(y))"
   ]
  },
  {
   "cell_type": "code",
   "execution_count": 23,
   "id": "b20ac559",
   "metadata": {},
   "outputs": [
    {
     "name": "stdout",
     "output_type": "stream",
     "text": [
      "(10+0.99j)\n",
      "<class 'complex'>\n"
     ]
    }
   ],
   "source": [
    "z=10+.99J\n",
    "print(z)\n",
    "print(type(z))"
   ]
  },
  {
   "cell_type": "code",
   "execution_count": 19,
   "id": "01d4fefd",
   "metadata": {},
   "outputs": [
    {
     "name": "stdout",
     "output_type": "stream",
     "text": [
      "5\n",
      "3.75\n",
      "(5+3.75j)\n",
      "<class 'int'>\n",
      "<class 'float'>\n",
      "<class 'complex'>\n"
     ]
    }
   ],
   "source": [
    "y=3.75\n",
    "z=5+3.75j\n",
    "print(x)\n",
    "print(y)\n",
    "print(z)\n",
    "print(type(x))\n",
    "print(type(y))\n",
    "print(type(z))"
   ]
  },
  {
   "cell_type": "code",
   "execution_count": 24,
   "id": "74ac7f5c",
   "metadata": {},
   "outputs": [
    {
     "name": "stdout",
     "output_type": "stream",
     "text": [
      "<class 'complex'>\n"
     ]
    }
   ],
   "source": [
    "print(type(z))"
   ]
  },
  {
   "cell_type": "markdown",
   "id": "4aca3573",
   "metadata": {},
   "source": [
    "# Sequence Tye:list, tuple, range"
   ]
  },
  {
   "cell_type": "code",
   "execution_count": 26,
   "id": "c67ab6c1",
   "metadata": {},
   "outputs": [
    {
     "name": "stdout",
     "output_type": "stream",
     "text": [
      "['orange', 'apple', 'banana']\n",
      "<class 'list'>\n"
     ]
    }
   ],
   "source": [
    "x=[\"orange\",\"apple\",\"banana\"]\n",
    "print(x)\n",
    "print(type(x))"
   ]
  },
  {
   "cell_type": "code",
   "execution_count": 27,
   "id": "bb6f1f8d",
   "metadata": {},
   "outputs": [
    {
     "name": "stdout",
     "output_type": "stream",
     "text": [
      "('orange', 'apple', 'banana')\n",
      "<class 'tuple'>\n"
     ]
    }
   ],
   "source": [
    "x=(\"orange\",\"apple\",\"banana\")\n",
    "print(x)\n",
    "print(type(x))"
   ]
  },
  {
   "cell_type": "code",
   "execution_count": 41,
   "id": "0758ebe6",
   "metadata": {},
   "outputs": [
    {
     "name": "stdout",
     "output_type": "stream",
     "text": [
      "[0, 1, 2, 3, 4, 5, 6, 7, 8, 9]\n",
      "<class 'range'>\n"
     ]
    }
   ],
   "source": [
    "x=range(0,10)\n",
    "print(list(x))\n",
    "print(type(x))\n"
   ]
  },
  {
   "cell_type": "markdown",
   "id": "37463d83",
   "metadata": {},
   "source": [
    "# Mapping Type:dict"
   ]
  },
  {
   "cell_type": "code",
   "execution_count": 46,
   "id": "328002b2",
   "metadata": {},
   "outputs": [
    {
     "name": "stdout",
     "output_type": "stream",
     "text": [
      "{'brand': 'realme', 'model': 'GT Master', 'year': 2022}\n",
      "<class 'dict'>\n"
     ]
    }
   ],
   "source": [
    "x={\n",
    "    \"brand\":\"realme\",\n",
    "    \"model\":\"GT Master\",\n",
    "    \"year\":2022\n",
    "}\n",
    "print(x)\n",
    "print(type(x))"
   ]
  },
  {
   "cell_type": "code",
   "execution_count": 49,
   "id": "cc0035f1",
   "metadata": {},
   "outputs": [
    {
     "name": "stdout",
     "output_type": "stream",
     "text": [
      "{'friuts': ['orange', 'apple', 'banana'], 'country': ['Brazil', 'China', 'bangladesh'], 'year': [2022, 2023, 2024], 'colors': ['yellow', 'red', 'yellow']}\n",
      "<class 'dict'>\n"
     ]
    }
   ],
   "source": [
    "x = {\n",
    "  \"friuts\": [\"orange\",\"apple\",\"banana\"],\n",
    "  \"country\":[\"Brazil\",\"China\",\"bangladesh\"],\n",
    "  \"year\": [2022,2023,2024],\n",
    "  \"colors\": [\"yellow\", \"red\", \"yellow\"]\n",
    "}\n",
    "print(x)\n",
    "print(type(x))"
   ]
  },
  {
   "cell_type": "markdown",
   "id": "def01212",
   "metadata": {},
   "source": [
    "# Set Types:set, frozenset"
   ]
  },
  {
   "cell_type": "code",
   "execution_count": 51,
   "id": "dc1f62af",
   "metadata": {},
   "outputs": [
    {
     "name": "stdout",
     "output_type": "stream",
     "text": [
      "{'orange', 'apple', 'banana'}\n",
      "<class 'set'>\n"
     ]
    }
   ],
   "source": [
    "x={\"orange\",\"apple\",\"banana\"}\n",
    "print(x)\n",
    "print(type(x))"
   ]
  },
  {
   "cell_type": "code",
   "execution_count": 52,
   "id": "24bbc101",
   "metadata": {},
   "outputs": [
    {
     "name": "stdout",
     "output_type": "stream",
     "text": [
      "frozenset({'orange', 'apple', 'banana'})\n",
      "<class 'frozenset'>\n"
     ]
    }
   ],
   "source": [
    "y=frozenset(x)\n",
    "print(y)\n",
    "print(type(y))"
   ]
  },
  {
   "cell_type": "markdown",
   "id": "ba32e9da",
   "metadata": {},
   "source": [
    "# Boolean Type:bool"
   ]
  },
  {
   "cell_type": "code",
   "execution_count": 63,
   "id": "341a0040",
   "metadata": {},
   "outputs": [
    {
     "name": "stdout",
     "output_type": "stream",
     "text": [
      "10\n",
      "True\n",
      "Hello World\n",
      "True\n",
      "('orange', '5')\n",
      "True\n"
     ]
    }
   ],
   "source": [
    "x=10\n",
    "print(x)\n",
    "print(bool(int))\n",
    "\n",
    "y=\"Hello World\"\n",
    "print(y)\n",
    "print(bool(int))\n",
    "\n",
    "z=(\"orange\",\"5\")\n",
    "print(z)\n",
    "print(bool(z))"
   ]
  },
  {
   "cell_type": "markdown",
   "id": "ef297789",
   "metadata": {},
   "source": [
    "# Binary Types:bytes, bytearray, memoryview"
   ]
  },
  {
   "cell_type": "code",
   "execution_count": 75,
   "id": "72c8a4d4",
   "metadata": {},
   "outputs": [
    {
     "name": "stdout",
     "output_type": "stream",
     "text": [
      "b'Hello World'\n",
      "<class 'bytes'>\n"
     ]
    }
   ],
   "source": [
    "x=b'\\x48\\x65\\x6c\\x6c\\x6f\\x20\\x57\\x6f\\x72\\x6c\\x64'\n",
    "print(x)\n",
    "print(type(x))"
   ]
  },
  {
   "cell_type": "code",
   "execution_count": 76,
   "id": "140f81d1",
   "metadata": {},
   "outputs": [
    {
     "name": "stdout",
     "output_type": "stream",
     "text": [
      "bytearray(b'ABCDE')\n",
      "<class 'bytearray'>\n"
     ]
    }
   ],
   "source": [
    "x=bytearray([65, 66, 67, 68, 69])\n",
    "print(x)\n",
    "print(type(x))"
   ]
  },
  {
   "cell_type": "code",
   "execution_count": 77,
   "id": "ceffdb71",
   "metadata": {},
   "outputs": [
    {
     "name": "stdout",
     "output_type": "stream",
     "text": [
      "<memory at 0x00000220BACDF340>\n",
      "<class 'memoryview'>\n"
     ]
    }
   ],
   "source": [
    "x=memoryview(b'\\x48\\x65\\x6c\\x6c\\x6f\\x20\\x57\\x6f\\x72\\x6c\\x64')\n",
    "print(x)\n",
    "print(type(x))"
   ]
  },
  {
   "cell_type": "markdown",
   "id": "4e683624",
   "metadata": {},
   "source": [
    "# None Type"
   ]
  },
  {
   "cell_type": "code",
   "execution_count": 79,
   "id": "0c079986",
   "metadata": {},
   "outputs": [
    {
     "name": "stdout",
     "output_type": "stream",
     "text": [
      "None\n",
      "<class 'NoneType'>\n"
     ]
    }
   ],
   "source": [
    "x=None\n",
    "print(x)\n",
    "print(type(x))\n"
   ]
  },
  {
   "cell_type": "code",
   "execution_count": null,
   "id": "261ac71d",
   "metadata": {},
   "outputs": [],
   "source": []
  }
 ],
 "metadata": {
  "kernelspec": {
   "display_name": "Python 3 (ipykernel)",
   "language": "python",
   "name": "python3"
  },
  "language_info": {
   "codemirror_mode": {
    "name": "ipython",
    "version": 3
   },
   "file_extension": ".py",
   "mimetype": "text/x-python",
   "name": "python",
   "nbconvert_exporter": "python",
   "pygments_lexer": "ipython3",
   "version": "3.11.5"
  }
 },
 "nbformat": 4,
 "nbformat_minor": 5
}
