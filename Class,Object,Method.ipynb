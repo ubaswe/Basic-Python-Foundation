{
 "cells": [
  {
   "cell_type": "markdown",
   "id": "8cfbd4ec",
   "metadata": {},
   "source": [
    "# Class,Object,Method\n",
    "class Student:<br>\n",
    "    roll=\"\"<br>\n",
    "    gpa=\"\"<br>\n",
    "<br>\n",
    "Tamim=Student()<br>\n",
    "\n",
    "Here Student is class and Tamim is object<br>"
   ]
  },
  {
   "cell_type": "markdown",
   "id": "37973c84",
   "metadata": {},
   "source": [
    "# Class and Object"
   ]
  },
  {
   "cell_type": "code",
   "execution_count": 9,
   "id": "9dcf106c",
   "metadata": {},
   "outputs": [
    {
     "name": "stdout",
     "output_type": "stream",
     "text": [
      "Roll:101,GPA:3.75,Dept:EEE\n",
      "Roll:102,GPA:3.5,Dept:EEE\n",
      "Roll:103,GPA:3.25,Dept:EEE\n",
      "Roll:104,GPA:3.0,Dept:EEE\n"
     ]
    }
   ],
   "source": [
    "class Student:#This is class\n",
    "    roll=\"\"\n",
    "    gpa=\"\"\n",
    "    dept=\"\"\n",
    "    \n",
    "Tamim=Student() #Object\n",
    "Tamim.roll=101\n",
    "Tamim.gpa=3.75\n",
    "Tamim.dept=\"EEE\"\n",
    "print(f\"Roll:{Tamim.roll},GPA:{Tamim.gpa},Dept:{Tamim.dept}\")\n",
    "\n",
    "Najmul=Student()\n",
    "Najmul.roll=102\n",
    "Najmul.gpa=3.50\n",
    "Najmul.dept=\"EEE\"\n",
    "print(f\"Roll:{Najmul.roll},GPA:{Najmul.gpa},Dept:{Najmul.dept}\")\n",
    "\n",
    "Shohel=Student()\n",
    "Shohel.roll=103\n",
    "Shohel.gpa=3.25\n",
    "Shohel.dept=\"EEE\"\n",
    "print(f\"Roll:{Shohel.roll},GPA:{Shohel.gpa},Dept:{Shohel.dept}\")\n",
    "\n",
    "\n",
    "Uba=Student()\n",
    "Uba.roll=104\n",
    "Uba.gpa=3.00\n",
    "Uba.dept=\"EEE\"\n",
    "print(f\"Roll:{Uba.roll},GPA:{Uba.gpa},Dept:{Uba.dept}\")\n"
   ]
  },
  {
   "cell_type": "code",
   "execution_count": 12,
   "id": "e45bb0a4",
   "metadata": {},
   "outputs": [
    {
     "name": "stdout",
     "output_type": "stream",
     "text": [
      "Roll:101,GPA:3.75,Dept:EEE\n",
      "Roll:102,GPA:3.5,Dept:EEE\n",
      "Roll:103,GPA:3.25,Dept:EEE\n",
      "Roll:104,GPA:3.0,Dept:EEE\n"
     ]
    }
   ],
   "source": [
    "#Method:when use function\n",
    "class Student:\n",
    "    roll=\"\"\n",
    "    gpa=\"\"\n",
    "    dept=\"\"\n",
    "    \n",
    "    def display(self):\n",
    "        print(f\"Roll:{self.roll},GPA:{self.gpa},Dept:{self.dept}\")\n",
    "      \n",
    "    \n",
    "    \n",
    "Tamim=Student()\n",
    "Tamim.roll=101\n",
    "Tamim.gpa=3.75\n",
    "Tamim.dept=\"EEE\"\n",
    "Tamim.display()\n",
    "\n",
    "Najmul=Student()\n",
    "Najmul.roll=102\n",
    "Najmul.gpa=3.50\n",
    "Najmul.dept=\"EEE\"\n",
    "Najmul.display()\n",
    "\n",
    "\n",
    "Shohel=Student()\n",
    "Shohel.roll=103\n",
    "Shohel.gpa=3.25\n",
    "Shohel.dept=\"EEE\"\n",
    "Shohel.display()\n",
    "\n",
    "\n",
    "Uba=Student()\n",
    "Uba.roll=104\n",
    "Uba.gpa=3.00\n",
    "Uba.dept=\"EEE\"\n",
    "Uba.display()\n"
   ]
  },
  {
   "cell_type": "code",
   "execution_count": 14,
   "id": "7ff3782d",
   "metadata": {},
   "outputs": [
    {
     "name": "stdout",
     "output_type": "stream",
     "text": [
      "Roll:101,GPA:3.75,Dept:EEE\n",
      "Roll:102,GPA:3.5,Dept:EEE\n",
      "Roll:103,GPA:3.25,Dept:EEE\n",
      "Roll:104,GPA:3.0,Dept:EEE\n"
     ]
    }
   ],
   "source": [
    "class Student:\n",
    "    roll=\"\"\n",
    "    gpa=\"\"\n",
    "    dept=\"\"\n",
    "#using another function set-value to short the program\n",
    "    def set_value(self,roll,gpa,dept):\n",
    "        self.roll=roll\n",
    "        self.gpa=gpa\n",
    "        self.dept=dept\n",
    "    \n",
    "    def display(self):\n",
    "        print(f\"Roll:{self.roll},GPA:{self.gpa},Dept:{self.dept}\")\n",
    "      \n",
    "    \n",
    "    \n",
    "Tamim=Student()\n",
    "Tamim.set_value(101,3.75,\"EEE\")\n",
    "Tamim.display()\n",
    "\n",
    "Najmul=Student()\n",
    "Najmul.set_value(102,3.50,\"EEE\")\n",
    "Najmul.display()\n",
    "\n",
    "\n",
    "Shohel=Student()\n",
    "Shohel.set_value(103,3.25,\"EEE\")\n",
    "Shohel.display()\n",
    "\n",
    "\n",
    "Uba=Student()\n",
    "Uba.set_value(104,3.00,\"EEE\")\n",
    "Uba.display()"
   ]
  },
  {
   "cell_type": "code",
   "execution_count": 16,
   "id": "09b0aae4",
   "metadata": {},
   "outputs": [
    {
     "name": "stdout",
     "output_type": "stream",
     "text": [
      "Roll:101,GPA:3.75,Dept:EEE\n",
      "Roll:102,GPA:3.5,Dept:EEE\n",
      "Roll:103,GPA:3.25,Dept:EEE\n",
      "Roll:104,GPA:3.0,Dept:EEE\n"
     ]
    }
   ],
   "source": [
    "#_init_Method\n",
    "class Student:\n",
    "    roll=\"\"\n",
    "    gpa=\"\"\n",
    "    dept=\"\"\n",
    "    \n",
    "    def __init__(self,roll,gpa,dept):\n",
    "        self.roll=roll\n",
    "        self.gpa=gpa\n",
    "        self.dept=dept\n",
    "    \n",
    "    def display(self):\n",
    "        print(f\"Roll:{self.roll},GPA:{self.gpa},Dept:{self.dept}\")\n",
    "      \n",
    "    \n",
    "    \n",
    "Tamim=Student(101,3.75,\"EEE\")\n",
    "Tamim.display()\n",
    "\n",
    "Najmul=Student(102,3.50,\"EEE\")\n",
    "Najmul.display()\n",
    "\n",
    "\n",
    "Shohel=Student(103,3.25,\"EEE\")\n",
    "Shohel.display()\n",
    "\n",
    "\n",
    "Uba=Student(104,3.00,\"EEE\")\n",
    "Uba.display()"
   ]
  },
  {
   "cell_type": "code",
   "execution_count": 6,
   "id": "ac3baade",
   "metadata": {},
   "outputs": [
    {
     "name": "stdout",
     "output_type": "stream",
     "text": [
      "300.0\n"
     ]
    }
   ],
   "source": [
    "class Triangle:\n",
    "    def __init__(self,base,height):\n",
    "        self.base=base\n",
    "        self.height=height\n",
    "        \n",
    "    def calculate_area(self):\n",
    "        area=0.5*self.base*self.height\n",
    "        print(area)\n",
    "        \n",
    "t1=Triangle(20,30)\n",
    "t1.calculate_area()"
   ]
  },
  {
   "cell_type": "code",
   "execution_count": null,
   "id": "68848c0d",
   "metadata": {},
   "outputs": [],
   "source": []
  }
 ],
 "metadata": {
  "kernelspec": {
   "display_name": "Python 3 (ipykernel)",
   "language": "python",
   "name": "python3"
  },
  "language_info": {
   "codemirror_mode": {
    "name": "ipython",
    "version": 3
   },
   "file_extension": ".py",
   "mimetype": "text/x-python",
   "name": "python",
   "nbconvert_exporter": "python",
   "pygments_lexer": "ipython3",
   "version": "3.11.5"
  }
 },
 "nbformat": 4,
 "nbformat_minor": 5
}
