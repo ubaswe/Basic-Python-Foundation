{
 "cells": [
  {
   "cell_type": "markdown",
   "id": "8cfbd4ec",
   "metadata": {},
   "source": [
    "# Class,Object,Method\n",
    "class Student:<br>\n",
    "    roll=\"\"<br>\n",
    "    gpa=\"\"<br>\n",
    "<br>\n",
    "Tamim=Student()<br>\n",
    "\n",
    "Here Student is class and Tamim is object<br>"
   ]
  },
  {
   "cell_type": "markdown",
   "id": "37973c84",
   "metadata": {},
   "source": [
    "# Class and Object"
   ]
  },
  {
   "cell_type": "code",
   "execution_count": 3,
   "id": "9dcf106c",
   "metadata": {},
   "outputs": [
    {
     "name": "stdout",
     "output_type": "stream",
     "text": [
      "Roll: 101, GPA:3.75\n",
      "Roll: 100, GPA:3.0\n",
      "Roll: 99, GPA:2.75\n",
      "Roll: 98, GPA:2.5\n"
     ]
    }
   ],
   "source": [
    "class Student:\n",
    "    roll=\"\"\n",
    "    gpa=\"\"\n",
    "\n",
    "Tamim=Student()\n",
    "Tamim.roll=101\n",
    "Tamim.gpa=3.75\n",
    "print(f\"Roll: {Tamim.roll}, GPA:{Tamim.gpa}\")\n",
    "\n",
    "Shovon=Student()\n",
    "Shovon.roll=100\n",
    "Shovon.gpa=3.00\n",
    "print(f\"Roll: {Shovon.roll}, GPA:{Shovon.gpa}\")\n",
    "\n",
    "\n",
    "Nazmul=Student()\n",
    "Nazmul.roll=99\n",
    "Nazmul.gpa=2.75\n",
    "print(f\"Roll: {Nazmul.roll}, GPA:{Nazmul.gpa}\")\n",
    "\n",
    "\n",
    "Shohel=Student()\n",
    "Shohel.roll=98\n",
    "Shohel.gpa=2.50\n",
    "print(f\"Roll: {Shohel.roll}, GPA:{Shohel.gpa}\")"
   ]
  },
  {
   "cell_type": "code",
   "execution_count": 4,
   "id": "e45bb0a4",
   "metadata": {},
   "outputs": [
    {
     "name": "stdout",
     "output_type": "stream",
     "text": [
      "Roll: 101, GPA:3.75\n",
      "Roll: 100, GPA:3.0\n",
      "Roll: 99, GPA:2.75\n",
      "Roll: 98, GPA:2.5\n"
     ]
    }
   ],
   "source": [
    "#Method\n",
    "class Student:\n",
    "    roll=\"\"\n",
    "    gpa=\"\"\n",
    "    \n",
    "    def set_value(self,roll,gpa):\n",
    "            self.roll=roll\n",
    "            self.gpa=gpa\n",
    "    \n",
    "    def display(self):\n",
    "        print(f\"Roll: {self.roll}, GPA:{self.gpa}\")\n",
    "        \n",
    "\n",
    "Tamim=Student()\n",
    "Tamim.set_value(101,3.75)\n",
    "Tamim.display()\n",
    "\n",
    "Shovon=Student()\n",
    "Shovon.set_value(100,3.00)\n",
    "Shovon.display()\n",
    "\n",
    "Nazmul=Student()\n",
    "Nazmul.set_value(99,2.75)\n",
    "Nazmul.display()\n",
    "\n",
    "Shohel=Student()\n",
    "Shohel.set_value(98,2.50)\n",
    "Shohel.display()"
   ]
  },
  {
   "cell_type": "code",
   "execution_count": 5,
   "id": "09b0aae4",
   "metadata": {},
   "outputs": [
    {
     "name": "stdout",
     "output_type": "stream",
     "text": [
      "Roll: 101, GPA:3.75\n",
      "Roll: 100, GPA:3.0\n",
      "Roll: 99, GPA:2.75\n",
      "Roll: 98, GPA:2.5\n"
     ]
    }
   ],
   "source": [
    "#_init_Method\n",
    "class Student:\n",
    "    roll=\"\"\n",
    "    gpa=\"\"\n",
    "    \n",
    "    def __init__(self,roll,gpa):\n",
    "            self.roll=roll\n",
    "            self.gpa=gpa\n",
    "    \n",
    "    def display(self):\n",
    "        print(f\"Roll: {self.roll}, GPA:{self.gpa}\")\n",
    "        \n",
    "\n",
    "Tamim=Student(101,3.75)\n",
    "Tamim.display()\n",
    "\n",
    "Shovon=Student(100,3.00)\n",
    "Shovon.display()\n",
    "\n",
    "Nazmul=Student(99,2.75)\n",
    "Nazmul.display()\n",
    "\n",
    "Shohel=Student(98,2.50)\n",
    "Shohel.display()"
   ]
  },
  {
   "cell_type": "code",
   "execution_count": 6,
   "id": "ac3baade",
   "metadata": {},
   "outputs": [
    {
     "name": "stdout",
     "output_type": "stream",
     "text": [
      "300.0\n"
     ]
    }
   ],
   "source": [
    "class Triangle:\n",
    "    def __init__(self,base,height):\n",
    "        self.base=base\n",
    "        self.height=height\n",
    "        \n",
    "    def calculate_area(self):\n",
    "        area=0.5*self.base*self.height\n",
    "        print(area)\n",
    "        \n",
    "t1=Triangle(20,30)\n",
    "t1.calculate_area()"
   ]
  },
  {
   "cell_type": "code",
   "execution_count": null,
   "id": "68848c0d",
   "metadata": {},
   "outputs": [],
   "source": []
  }
 ],
 "metadata": {
  "kernelspec": {
   "display_name": "Python 3 (ipykernel)",
   "language": "python",
   "name": "python3"
  },
  "language_info": {
   "codemirror_mode": {
    "name": "ipython",
    "version": 3
   },
   "file_extension": ".py",
   "mimetype": "text/x-python",
   "name": "python",
   "nbconvert_exporter": "python",
   "pygments_lexer": "ipython3",
   "version": "3.11.5"
  }
 },
 "nbformat": 4,
 "nbformat_minor": 5
}
