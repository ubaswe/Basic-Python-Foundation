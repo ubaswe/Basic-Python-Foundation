{
 "cells": [
  {
   "cell_type": "markdown",
   "id": "28bbf243",
   "metadata": {},
   "source": [
    "# Type Casting\n",
    "str to int"
   ]
  },
  {
   "cell_type": "code",
   "execution_count": 10,
   "id": "daf0a189",
   "metadata": {},
   "outputs": [
    {
     "name": "stdout",
     "output_type": "stream",
     "text": [
      "Enter number 1:10\n",
      "Enter number 2:20\n",
      "1020\n"
     ]
    }
   ],
   "source": [
    "x=input(\"Enter number 1:\")\n",
    "y=input(\"Enter number 2:\")\n",
    "result=x+y\n",
    "print(result)\n"
   ]
  },
  {
   "cell_type": "markdown",
   "id": "41582b6b",
   "metadata": {},
   "source": [
    "# The above result is showing in str.Now we convert the type to int"
   ]
  },
  {
   "cell_type": "code",
   "execution_count": 12,
   "id": "0e67ec7d",
   "metadata": {},
   "outputs": [
    {
     "name": "stdout",
     "output_type": "stream",
     "text": [
      "Enter number 1:10\n",
      "Enter number 2:20\n",
      "30\n"
     ]
    }
   ],
   "source": [
    "x=int(input(\"Enter number 1:\"))\n",
    "y=int(input(\"Enter number 2:\"))\n",
    "result=x+y\n",
    "print(result)"
   ]
  },
  {
   "cell_type": "markdown",
   "id": "53d59b9b",
   "metadata": {},
   "source": [
    "# int to float.Whenver use .(point).need to convert to float"
   ]
  },
  {
   "cell_type": "code",
   "execution_count": 22,
   "id": "d9b07aa4",
   "metadata": {},
   "outputs": [
    {
     "name": "stdout",
     "output_type": "stream",
     "text": [
      "Enter SSC Grade:3.75\n",
      "Enter HSC Grade:3.50\n",
      "5.5\n"
     ]
    }
   ],
   "source": [
    "x=float(input(\"Enter SSC Grade:\"))\n",
    "y=float(input(\"Enter HSC Grade:\"))\n",
    "Averageresult=x+y/2\n",
    "print(Averageresult)"
   ]
  },
  {
   "cell_type": "markdown",
   "id": "600e1828",
   "metadata": {},
   "source": [
    "# List to Tuple.List Mutable But Tuple Unmutable."
   ]
  },
  {
   "cell_type": "code",
   "execution_count": 25,
   "id": "03708315",
   "metadata": {},
   "outputs": [
    {
     "name": "stdout",
     "output_type": "stream",
     "text": [
      "['a', 'b', 'd', 'f']\n",
      "<class 'list'>\n"
     ]
    }
   ],
   "source": [
    "x=[\"a\",\"b\",\"d\",\"f\"]\n",
    "print(x)\n",
    "print(type(x))"
   ]
  },
  {
   "cell_type": "code",
   "execution_count": 27,
   "id": "711f3674",
   "metadata": {},
   "outputs": [
    {
     "name": "stdout",
     "output_type": "stream",
     "text": [
      "('a', 'b', 'd', 'f')\n",
      "<class 'tuple'>\n"
     ]
    }
   ],
   "source": [
    "y=tuple(x)\n",
    "print(y)\n",
    "print(type(y))"
   ]
  },
  {
   "cell_type": "code",
   "execution_count": null,
   "id": "0c1cfca7",
   "metadata": {},
   "outputs": [],
   "source": []
  }
 ],
 "metadata": {
  "kernelspec": {
   "display_name": "Python 3 (ipykernel)",
   "language": "python",
   "name": "python3"
  },
  "language_info": {
   "codemirror_mode": {
    "name": "ipython",
    "version": 3
   },
   "file_extension": ".py",
   "mimetype": "text/x-python",
   "name": "python",
   "nbconvert_exporter": "python",
   "pygments_lexer": "ipython3",
   "version": "3.11.5"
  }
 },
 "nbformat": 4,
 "nbformat_minor": 5
}
