{
 "cells": [
  {
   "cell_type": "markdown",
   "id": "9a141b5c",
   "metadata": {},
   "source": [
    "# Python Operators\n",
    "Python divides the operators in the following groups:<br>\n",
    "Arithmetic operators<br>\n",
    "Assignment operators<br>\n",
    "Comparison operators<br>\n",
    "Logical operators<br>\n",
    "Identity operators<br>\n",
    "Membership operators<br>\n",
    "Bitwise operators<br>"
   ]
  },
  {
   "cell_type": "markdown",
   "id": "34ba422d",
   "metadata": {},
   "source": [
    "# Arithmetic operators\n",
    "Arithmetic operators are used with numeric values to perform common mathematical operations:"
   ]
  },
  {
   "cell_type": "markdown",
   "id": "ef0c45ae",
   "metadata": {},
   "source": [
    "![](fru.png)"
   ]
  },
  {
   "cell_type": "markdown",
   "id": "ad389a62",
   "metadata": {},
   "source": [
    "# Arithmetic operators Examples:\n"
   ]
  },
  {
   "cell_type": "code",
   "execution_count": 2,
   "id": "e09a2799",
   "metadata": {},
   "outputs": [
    {
     "name": "stdout",
     "output_type": "stream",
     "text": [
      "12\n",
      "8\n",
      "20\n",
      "5.0\n",
      "0\n",
      "100\n",
      "5\n"
     ]
    }
   ],
   "source": [
    "x=10\n",
    "y=2\n",
    "result=x+y\n",
    "print(result)\n",
    "\n",
    "result=x-y\n",
    "print(result)\n",
    "\n",
    "result=x*y\n",
    "print(result)\n",
    "\n",
    "result=x/y\n",
    "print(result)\n",
    "\n",
    "result=x%y\n",
    "print(result)\n",
    "\n",
    "result=x**y\n",
    "print(result)\n",
    "\n",
    "result=x//y\n",
    "print(result)"
   ]
  },
  {
   "cell_type": "markdown",
   "id": "138a6dbb",
   "metadata": {},
   "source": [
    "# Assignment operators\n",
    "\n",
    "In Python, the assignment operator is represented by the equals sign (=).It is used to assign a value to a variable. For example:<br>\n",
    "![](log.png)"
   ]
  },
  {
   "cell_type": "markdown",
   "id": "144b8051",
   "metadata": {},
   "source": [
    "# Comparison Operators\n",
    "Comparison operators are used to compare two values:\n"
   ]
  },
  {
   "cell_type": "markdown",
   "id": "024a6bc8",
   "metadata": {},
   "source": [
    "![](op.png)"
   ]
  },
  {
   "cell_type": "markdown",
   "id": "aa86f173",
   "metadata": {},
   "source": [
    "# Logical Operators\n",
    "Logical operators are used to combine conditional statements:"
   ]
  },
  {
   "cell_type": "markdown",
   "id": "32e62312",
   "metadata": {},
   "source": [
    "![](fru2.png)"
   ]
  },
  {
   "cell_type": "markdown",
   "id": "e5fc9480",
   "metadata": {},
   "source": [
    "# Identity Operators\n",
    "entity operators are used to compare the objects, not if they are equal, but if they are actually the same object, with the same memory location:"
   ]
  },
  {
   "cell_type": "markdown",
   "id": "516748c9",
   "metadata": {},
   "source": [
    "![](fru3.png)"
   ]
  },
  {
   "cell_type": "markdown",
   "id": "565b8da0",
   "metadata": {},
   "source": [
    "# Python Membership Operators\n",
    "Membership operators are used to test if a sequence is presented in an object:"
   ]
  },
  {
   "cell_type": "markdown",
   "id": "2b5f5b51",
   "metadata": {},
   "source": [
    "![](fru4.png)"
   ]
  },
  {
   "cell_type": "markdown",
   "id": "4a907ea3",
   "metadata": {},
   "source": [
    "# Bitwise Operators\n",
    "Bitwise operators are used to compare (binary) numbers:"
   ]
  },
  {
   "cell_type": "markdown",
   "id": "ac8f1a01",
   "metadata": {},
   "source": [
    "![](fru5.png)"
   ]
  },
  {
   "cell_type": "markdown",
   "id": "85ef0275",
   "metadata": {},
   "source": [
    "# Operator Precedence\n",
    "Operator precedence describes the order in which operations are performed."
   ]
  },
  {
   "cell_type": "markdown",
   "id": "1837e17d",
   "metadata": {},
   "source": [
    "# ![](fru6.png)"
   ]
  },
  {
   "cell_type": "code",
   "execution_count": null,
   "id": "251b224a",
   "metadata": {},
   "outputs": [],
   "source": []
  }
 ],
 "metadata": {
  "kernelspec": {
   "display_name": "Python 3 (ipykernel)",
   "language": "python",
   "name": "python3"
  },
  "language_info": {
   "codemirror_mode": {
    "name": "ipython",
    "version": 3
   },
   "file_extension": ".py",
   "mimetype": "text/x-python",
   "name": "python",
   "nbconvert_exporter": "python",
   "pygments_lexer": "ipython3",
   "version": "3.11.5"
  }
 },
 "nbformat": 4,
 "nbformat_minor": 5
}
