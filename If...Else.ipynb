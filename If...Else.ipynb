{
 "cells": [
  {
   "cell_type": "markdown",
   "id": "c3505851",
   "metadata": {},
   "source": [
    "# if-else "
   ]
  },
  {
   "cell_type": "code",
   "execution_count": 1,
   "id": "b2b0eeb8",
   "metadata": {},
   "outputs": [
    {
     "name": "stdout",
     "output_type": "stream",
     "text": [
      "Enter x value : 10\n",
      "Enter y value : 7\n",
      "X is Bigger than Y\n"
     ]
    }
   ],
   "source": [
    "x=int(input(\"Enter x value : \"))\n",
    "y=int(input(\"Enter y value : \"))\n",
    "if x>y:\n",
    "    print(\"X is Bigger than Y\")\n",
    "elif x==y:\n",
    "    print(\"X is equal to Y\")\n",
    "else:\n",
    "    print(\"Y is Bigger than X\")"
   ]
  },
  {
   "cell_type": "markdown",
   "id": "f73bf64f",
   "metadata": {},
   "source": [
    "# A program of grading system using if-else"
   ]
  },
  {
   "cell_type": "code",
   "execution_count": 3,
   "id": "39b58913",
   "metadata": {},
   "outputs": [
    {
     "name": "stdout",
     "output_type": "stream",
     "text": [
      "Enter x value : 80\n",
      "A+\n"
     ]
    }
   ],
   "source": [
    "x=int(input(\"Enter x value : \"))\n",
    "if 100>=x>=80:\n",
    "    print(\"A+\")\n",
    "elif 79>=x>=70:\n",
    "    print(\"A\")\n",
    "elif 69>=x>=60:\n",
    "    print(\"A-\")\n",
    "elif 59>=x>=50:\n",
    "    print(\"B\")\n",
    "elif 49>=x>=40:\n",
    "    print(\"C\")\n",
    "elif 39>=x>=33:\n",
    "    print(\"D\")\n",
    "else:\n",
    "    print(\"Fail\")"
   ]
  },
  {
   "cell_type": "code",
   "execution_count": null,
   "id": "d89558fd",
   "metadata": {},
   "outputs": [],
   "source": []
  }
 ],
 "metadata": {
  "kernelspec": {
   "display_name": "Python 3 (ipykernel)",
   "language": "python",
   "name": "python3"
  },
  "language_info": {
   "codemirror_mode": {
    "name": "ipython",
    "version": 3
   },
   "file_extension": ".py",
   "mimetype": "text/x-python",
   "name": "python",
   "nbconvert_exporter": "python",
   "pygments_lexer": "ipython3",
   "version": "3.11.5"
  }
 },
 "nbformat": 4,
 "nbformat_minor": 5
}
