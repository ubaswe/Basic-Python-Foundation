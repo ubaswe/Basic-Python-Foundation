{
 "cells": [
  {
   "cell_type": "markdown",
   "id": "e7187a2c",
   "metadata": {},
   "source": [
    "# Python Operators\n",
    "Python divides the operators in the following groups:<br>\n",
    "Arithmetic operators<br>\n",
    "Assignment operators<br>\n",
    "Comparison operators<br>\n",
    "Logical operators<br>\n",
    "Identity operators<br>\n",
    "Membership operators<br>\n",
    "Bitwise operators<br>"
   ]
  },
  {
   "cell_type": "markdown",
   "id": "bf4b7f18",
   "metadata": {},
   "source": [
    "# Arithmetic operators\n",
    "Arithmetic operators are used with numeric values to perform common mathematical operations:"
   ]
  },
  {
   "cell_type": "markdown",
   "id": "75d296c1",
   "metadata": {},
   "source": [
    "![](fru.png)"
   ]
  },
  {
   "cell_type": "markdown",
   "id": "9ee3f299",
   "metadata": {},
   "source": [
    "# Arithmetic operators Examples:\n"
   ]
  },
  {
   "cell_type": "code",
   "execution_count": 2,
   "id": "4cdcf813",
   "metadata": {},
   "outputs": [
    {
     "name": "stdout",
     "output_type": "stream",
     "text": [
      "12\n",
      "8\n",
      "20\n",
      "5.0\n",
      "0\n",
      "100\n",
      "5\n"
     ]
    }
   ],
   "source": [
    "x=10\n",
    "y=2\n",
    "result=x+y\n",
    "print(result)\n",
    "\n",
    "result=x-y\n",
    "print(result)\n",
    "\n",
    "result=x*y\n",
    "print(result)\n",
    "\n",
    "result=x/y\n",
    "print(result)\n",
    "\n",
    "result=x%y\n",
    "print(result)\n",
    "\n",
    "result=x**y\n",
    "print(result)\n",
    "\n",
    "result=x//y\n",
    "print(result)"
   ]
  },
  {
   "cell_type": "markdown",
   "id": "692dbe1e",
   "metadata": {},
   "source": [
    "# Assignment operators\n",
    "\n",
    "In Python, the assignment operator is represented by the equals sign (=).It is used to assign a value to a variable. For example:<br>\n",
    "![](log.png)"
   ]
  },
  {
   "cell_type": "markdown",
   "id": "9dd60c26",
   "metadata": {},
   "source": [
    "# Comparison Operators\n",
    "Comparison operators are used to compare two values:\n"
   ]
  },
  {
   "cell_type": "markdown",
   "id": "24527792",
   "metadata": {},
   "source": [
    "![](op.png)"
   ]
  },
  {
   "cell_type": "markdown",
   "id": "4536ca25",
   "metadata": {},
   "source": [
    "# Logical Operators\n",
    "Logical operators are used to combine conditional statements:"
   ]
  },
  {
   "cell_type": "markdown",
   "id": "ce06244e",
   "metadata": {},
   "source": [
    "![](fru2.png)"
   ]
  },
  {
   "cell_type": "markdown",
   "id": "691833d1",
   "metadata": {},
   "source": [
    "# Identity Operators\n",
    "entity operators are used to compare the objects, not if they are equal, but if they are actually the same object, with the same memory location:"
   ]
  },
  {
   "cell_type": "markdown",
   "id": "2dd670e0",
   "metadata": {},
   "source": [
    "![](fru3.png)"
   ]
  },
  {
   "cell_type": "markdown",
   "id": "b346f7f1",
   "metadata": {},
   "source": [
    "# Python Membership Operators\n",
    "Membership operators are used to test if a sequence is presented in an object:"
   ]
  },
  {
   "cell_type": "markdown",
   "id": "228796ee",
   "metadata": {},
   "source": [
    "![](fru4.png)"
   ]
  },
  {
   "cell_type": "markdown",
   "id": "3c4e75e3",
   "metadata": {},
   "source": [
    "# Bitwise Operators\n",
    "Bitwise operators are used to compare (binary) numbers:"
   ]
  },
  {
   "cell_type": "markdown",
   "id": "9aeee0e1",
   "metadata": {},
   "source": [
    "![](fru5.png)"
   ]
  },
  {
   "cell_type": "markdown",
   "id": "6b3123a3",
   "metadata": {},
   "source": [
    "# Operator Precedence\n",
    "Operator precedence describes the order in which operations are performed."
   ]
  },
  {
   "cell_type": "markdown",
   "id": "252ebf3d",
   "metadata": {},
   "source": [
    "# ![](fru6.png)"
   ]
  },
  {
   "cell_type": "code",
   "execution_count": null,
   "id": "971294a2",
   "metadata": {},
   "outputs": [],
   "source": []
  }
 ],
 "metadata": {
  "kernelspec": {
   "display_name": "Python 3 (ipykernel)",
   "language": "python",
   "name": "python3"
  },
  "language_info": {
   "codemirror_mode": {
    "name": "ipython",
    "version": 3
   },
   "file_extension": ".py",
   "mimetype": "text/x-python",
   "name": "python",
   "nbconvert_exporter": "python",
   "pygments_lexer": "ipython3",
   "version": "3.11.5"
  }
 },
 "nbformat": 4,
 "nbformat_minor": 5
}
