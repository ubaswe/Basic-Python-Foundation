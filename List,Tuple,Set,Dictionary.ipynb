{
 "cells": [
  {
   "cell_type": "markdown",
   "id": "8b664219",
   "metadata": {},
   "source": [
    "# List,Tuple,Set,Dictionary\n",
    "List is a collection which is ordered and changeable. Allows duplicate members.<br>\n",
    "Tuple is a collection which is ordered and unchangeable. Allows duplicate members.<br>\n",
    "Set is a collection which is unordered, unchangeable*, and unindexed. No duplicate members.<br>\n",
    "Dictionary is a collection which is ordered** and changeable. No duplicate members.<br>"
   ]
  },
  {
   "cell_type": "markdown",
   "id": "31598e7b",
   "metadata": {},
   "source": [
    "# List\n"
   ]
  },
  {
   "cell_type": "code",
   "execution_count": 5,
   "id": "cc303f1e",
   "metadata": {},
   "outputs": [
    {
     "name": "stdout",
     "output_type": "stream",
     "text": [
      "['uba', 'shohel', 'monir', 'sunny', 'mohitun']\n",
      "monir\n",
      "['shohel', 'monir']\n",
      "['mohitun', 'monir', 'shohel', 'sunny', 'uba']\n",
      "['mohitun', 'monir', 'shohel', 'sunny', 'uba']\n",
      "['mohitun', 'monir', 'shohel', 'sunny', 'uba', 'mohitun', 'monir', 'shohel', 'sunny', 'uba']\n",
      "True\n"
     ]
    }
   ],
   "source": [
    "list=[\"uba\",\"tamim\",\"shohel\",\"shovon\"]\n",
    "list[3]=\"sunny\"\n",
    "list.insert(3,\"monir\")\n",
    "list.append(\"mohitun\")\n",
    "list.remove(\"tamim\")\n",
    "print(list)\n",
    "print(list[2])\n",
    "print(list[1:3])\n",
    "list.sort()\n",
    "print(list)\n",
    "list3=list.copy()\n",
    "print(list3)\n",
    "list.extend(list3)\n",
    "print(list)\n",
    "print(\"uba\" in list)\n"
   ]
  },
  {
   "cell_type": "markdown",
   "id": "afb1128c",
   "metadata": {},
   "source": [
    "# Tuple"
   ]
  },
  {
   "cell_type": "code",
   "execution_count": 4,
   "id": "49b23f52",
   "metadata": {},
   "outputs": [
    {
     "name": "stdout",
     "output_type": "stream",
     "text": [
      "('uba', 'tamim', 'shohel', 'robiul')\n",
      "4\n",
      "shohel\n",
      "('tamim', 'shohel')\n",
      "('uba', 'tamim', 'shohel', 'robiul')\n",
      "('uba', 'tamim', 'shohel', 'robiul', 'uba', 'tamim', 'shohel', 'robiul')\n"
     ]
    }
   ],
   "source": [
    "tuple=(\"uba\",\"tamim\",\"shohel\",\"robiul\")\n",
    "print(tuple)\n",
    "print(len(tuple))\n",
    "print(tuple[2])\n",
    "print(tuple[1:3])\n",
    "print(tuple)\n",
    "tuple=tuple*2\n",
    "print(tuple)"
   ]
  },
  {
   "cell_type": "markdown",
   "id": "87a3b647",
   "metadata": {},
   "source": [
    "# Set"
   ]
  },
  {
   "cell_type": "code",
   "execution_count": 6,
   "id": "9c7d056b",
   "metadata": {},
   "outputs": [
    {
     "name": "stdout",
     "output_type": "stream",
     "text": [
      "{'tamim', 34, 'True', 40, 'crow'}\n",
      "{'tamim', 34, 'True', 40, 'crow', 'uba'}\n",
      "tamim\n",
      "34\n",
      "True\n",
      "40\n",
      "crow\n",
      "uba\n"
     ]
    }
   ],
   "source": [
    "set={\"crow\",\"tamim\",34, \"True\", 40}\n",
    "\n",
    "print(set)\n",
    "set.add(\"uba\")\n",
    "print(set)\n",
    "for x in set:\n",
    "    print(x)"
   ]
  },
  {
   "cell_type": "code",
   "execution_count": 10,
   "id": "39f11c42",
   "metadata": {},
   "outputs": [
    {
     "name": "stdout",
     "output_type": "stream",
     "text": [
      "{1, 2, 'a', 3, 'c', 'b'}\n"
     ]
    }
   ],
   "source": [
    "#union   \n",
    "set1 = {\"a\", \"b\" , \"c\"}\n",
    "set2 = {1, 2, 3}\n",
    "\n",
    "set3 = set1.union(set2)\n",
    "print(set3)\n"
   ]
  },
  {
   "cell_type": "code",
   "execution_count": 8,
   "id": "dbfa2325",
   "metadata": {},
   "outputs": [
    {
     "name": "stdout",
     "output_type": "stream",
     "text": [
      "{1, 2, 'a', 3, 'c', 'b'}\n"
     ]
    }
   ],
   "source": [
    "# Update\n",
    "set1 = {\"a\", \"b\" , \"c\"}\n",
    "set2 = {1, 2, 3}\n",
    "set1.update(set2)\n",
    "print(set1)"
   ]
  },
  {
   "cell_type": "markdown",
   "id": "e05205c6",
   "metadata": {},
   "source": [
    "# Dictionary"
   ]
  },
  {
   "cell_type": "code",
   "execution_count": 9,
   "id": "69d233f4",
   "metadata": {},
   "outputs": [
    {
     "name": "stdout",
     "output_type": "stream",
     "text": [
      "{'brand': 'realme', 'model': 'C51', 'year': 2023}\n",
      "{'brand': 'realme', 'model': 'C53', 'year': 2023}\n",
      "realme\n",
      "C53\n",
      "{'brand': 'realme', 'model': 'C53', 'year': 2022}\n"
     ]
    }
   ],
   "source": [
    "dict1= {\n",
    "    \"brand\":\"realme\",\n",
    "    \"model\":\"C51\",\"\"\n",
    "    \"year\":2023\n",
    "}\n",
    "print(dict1)\n",
    "\n",
    "dict2= {\n",
    "    \"brand\":\"realme\",\n",
    "    \"model\":\"C53\",\n",
    "    \"year\":2023\n",
    "\n",
    "}\n",
    "print(dict2)\n",
    "print(dict2[\"brand\"])\n",
    "print(dict2[\"model\"])\n",
    "dict2.update({\"year\":2022})\n",
    "print(dict2)"
   ]
  },
  {
   "cell_type": "code",
   "execution_count": null,
   "id": "9af81a40",
   "metadata": {},
   "outputs": [],
   "source": []
  }
 ],
 "metadata": {
  "kernelspec": {
   "display_name": "Python 3 (ipykernel)",
   "language": "python",
   "name": "python3"
  },
  "language_info": {
   "codemirror_mode": {
    "name": "ipython",
    "version": 3
   },
   "file_extension": ".py",
   "mimetype": "text/x-python",
   "name": "python",
   "nbconvert_exporter": "python",
   "pygments_lexer": "ipython3",
   "version": "3.11.5"
  }
 },
 "nbformat": 4,
 "nbformat_minor": 5
}
